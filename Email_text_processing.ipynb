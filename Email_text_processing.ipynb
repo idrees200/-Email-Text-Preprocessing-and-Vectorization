{
  "cells": [
    {
      "cell_type": "markdown",
      "id": "9e30857e",
      "metadata": {
        "id": "9e30857e"
      },
      "source": [
        "# Step 1: Reading and Exploring Email Data"
      ]
    },
    {
      "cell_type": "code",
      "execution_count": null,
      "id": "9bef178f",
      "metadata": {
        "id": "9bef178f",
        "outputId": "8e3e83a1-b6b9-4a9c-dec8-34a6e856ce66"
      },
      "outputs": [
        {
          "data": {
            "text/html": [
              "<div>\n",
              "<style scoped>\n",
              "    .dataframe tbody tr th:only-of-type {\n",
              "        vertical-align: middle;\n",
              "    }\n",
              "\n",
              "    .dataframe tbody tr th {\n",
              "        vertical-align: top;\n",
              "    }\n",
              "\n",
              "    .dataframe thead th {\n",
              "        text-align: right;\n",
              "    }\n",
              "</style>\n",
              "<table border=\"1\" class=\"dataframe\">\n",
              "  <thead>\n",
              "    <tr style=\"text-align: right;\">\n",
              "      <th></th>\n",
              "      <th>text</th>\n",
              "      <th>spam</th>\n",
              "    </tr>\n",
              "  </thead>\n",
              "  <tbody>\n",
              "    <tr>\n",
              "      <th>0</th>\n",
              "      <td>Subject: naturally irresistible your corporate...</td>\n",
              "      <td>1</td>\n",
              "    </tr>\n",
              "    <tr>\n",
              "      <th>1</th>\n",
              "      <td>Subject: the stock trading gunslinger  fanny i...</td>\n",
              "      <td>1</td>\n",
              "    </tr>\n",
              "    <tr>\n",
              "      <th>2</th>\n",
              "      <td>Subject: unbelievable new homes made easy  im ...</td>\n",
              "      <td>1</td>\n",
              "    </tr>\n",
              "    <tr>\n",
              "      <th>3</th>\n",
              "      <td>Subject: 4 color printing special  request add...</td>\n",
              "      <td>1</td>\n",
              "    </tr>\n",
              "    <tr>\n",
              "      <th>4</th>\n",
              "      <td>Subject: do not have money , get software cds ...</td>\n",
              "      <td>1</td>\n",
              "    </tr>\n",
              "    <tr>\n",
              "      <th>...</th>\n",
              "      <td>...</td>\n",
              "      <td>...</td>\n",
              "    </tr>\n",
              "    <tr>\n",
              "      <th>5723</th>\n",
              "      <td>Subject: re : research and development charges...</td>\n",
              "      <td>0</td>\n",
              "    </tr>\n",
              "    <tr>\n",
              "      <th>5724</th>\n",
              "      <td>Subject: re : receipts from visit  jim ,  than...</td>\n",
              "      <td>0</td>\n",
              "    </tr>\n",
              "    <tr>\n",
              "      <th>5725</th>\n",
              "      <td>Subject: re : enron case study update  wow ! a...</td>\n",
              "      <td>0</td>\n",
              "    </tr>\n",
              "    <tr>\n",
              "      <th>5726</th>\n",
              "      <td>Subject: re : interest  david ,  please , call...</td>\n",
              "      <td>0</td>\n",
              "    </tr>\n",
              "    <tr>\n",
              "      <th>5727</th>\n",
              "      <td>Subject: news : aurora 5 . 2 update  aurora ve...</td>\n",
              "      <td>0</td>\n",
              "    </tr>\n",
              "  </tbody>\n",
              "</table>\n",
              "<p>5728 rows × 2 columns</p>\n",
              "</div>"
            ],
            "text/plain": [
              "                                                   text  spam\n",
              "0     Subject: naturally irresistible your corporate...     1\n",
              "1     Subject: the stock trading gunslinger  fanny i...     1\n",
              "2     Subject: unbelievable new homes made easy  im ...     1\n",
              "3     Subject: 4 color printing special  request add...     1\n",
              "4     Subject: do not have money , get software cds ...     1\n",
              "...                                                 ...   ...\n",
              "5723  Subject: re : research and development charges...     0\n",
              "5724  Subject: re : receipts from visit  jim ,  than...     0\n",
              "5725  Subject: re : enron case study update  wow ! a...     0\n",
              "5726  Subject: re : interest  david ,  please , call...     0\n",
              "5727  Subject: news : aurora 5 . 2 update  aurora ve...     0\n",
              "\n",
              "[5728 rows x 2 columns]"
            ]
          },
          "execution_count": 35,
          "metadata": {},
          "output_type": "execute_result"
        }
      ],
      "source": [
        "import pandas as pd\n",
        "\n",
        "# Load the email dataset into a pandas DataFrame\n",
        "df = pd.read_csv('emails.csv')\n",
        "df"
      ]
    },
    {
      "cell_type": "code",
      "execution_count": null,
      "id": "2550c31b",
      "metadata": {
        "id": "2550c31b",
        "outputId": "c1408b6a-f4e6-4b2e-d150-df523d7f9966"
      },
      "outputs": [
        {
          "data": {
            "text/html": [
              "<div>\n",
              "<style scoped>\n",
              "    .dataframe tbody tr th:only-of-type {\n",
              "        vertical-align: middle;\n",
              "    }\n",
              "\n",
              "    .dataframe tbody tr th {\n",
              "        vertical-align: top;\n",
              "    }\n",
              "\n",
              "    .dataframe thead th {\n",
              "        text-align: right;\n",
              "    }\n",
              "</style>\n",
              "<table border=\"1\" class=\"dataframe\">\n",
              "  <thead>\n",
              "    <tr style=\"text-align: right;\">\n",
              "      <th></th>\n",
              "      <th>text</th>\n",
              "      <th>spam</th>\n",
              "    </tr>\n",
              "  </thead>\n",
              "  <tbody>\n",
              "    <tr>\n",
              "      <th>0</th>\n",
              "      <td>Subject: naturally irresistible your corporate...</td>\n",
              "      <td>1</td>\n",
              "    </tr>\n",
              "    <tr>\n",
              "      <th>1</th>\n",
              "      <td>Subject: the stock trading gunslinger  fanny i...</td>\n",
              "      <td>1</td>\n",
              "    </tr>\n",
              "    <tr>\n",
              "      <th>2</th>\n",
              "      <td>Subject: unbelievable new homes made easy  im ...</td>\n",
              "      <td>1</td>\n",
              "    </tr>\n",
              "    <tr>\n",
              "      <th>3</th>\n",
              "      <td>Subject: 4 color printing special  request add...</td>\n",
              "      <td>1</td>\n",
              "    </tr>\n",
              "    <tr>\n",
              "      <th>4</th>\n",
              "      <td>Subject: do not have money , get software cds ...</td>\n",
              "      <td>1</td>\n",
              "    </tr>\n",
              "  </tbody>\n",
              "</table>\n",
              "</div>"
            ],
            "text/plain": [
              "                                                text  spam\n",
              "0  Subject: naturally irresistible your corporate...     1\n",
              "1  Subject: the stock trading gunslinger  fanny i...     1\n",
              "2  Subject: unbelievable new homes made easy  im ...     1\n",
              "3  Subject: 4 color printing special  request add...     1\n",
              "4  Subject: do not have money , get software cds ...     1"
            ]
          },
          "execution_count": 36,
          "metadata": {},
          "output_type": "execute_result"
        }
      ],
      "source": [
        "# Show the top 5 rows of the data\n",
        "df.head()"
      ]
    },
    {
      "cell_type": "code",
      "execution_count": null,
      "id": "5cbc8dd0",
      "metadata": {
        "id": "5cbc8dd0",
        "outputId": "bd8dbf35-d5d5-4629-d80f-114f3956c7e3"
      },
      "outputs": [
        {
          "data": {
            "text/html": [
              "<div>\n",
              "<style scoped>\n",
              "    .dataframe tbody tr th:only-of-type {\n",
              "        vertical-align: middle;\n",
              "    }\n",
              "\n",
              "    .dataframe tbody tr th {\n",
              "        vertical-align: top;\n",
              "    }\n",
              "\n",
              "    .dataframe thead th {\n",
              "        text-align: right;\n",
              "    }\n",
              "</style>\n",
              "<table border=\"1\" class=\"dataframe\">\n",
              "  <thead>\n",
              "    <tr style=\"text-align: right;\">\n",
              "      <th></th>\n",
              "      <th>spam</th>\n",
              "    </tr>\n",
              "  </thead>\n",
              "  <tbody>\n",
              "    <tr>\n",
              "      <th>count</th>\n",
              "      <td>5728.000000</td>\n",
              "    </tr>\n",
              "    <tr>\n",
              "      <th>mean</th>\n",
              "      <td>0.238827</td>\n",
              "    </tr>\n",
              "    <tr>\n",
              "      <th>std</th>\n",
              "      <td>0.426404</td>\n",
              "    </tr>\n",
              "    <tr>\n",
              "      <th>min</th>\n",
              "      <td>0.000000</td>\n",
              "    </tr>\n",
              "    <tr>\n",
              "      <th>25%</th>\n",
              "      <td>0.000000</td>\n",
              "    </tr>\n",
              "    <tr>\n",
              "      <th>50%</th>\n",
              "      <td>0.000000</td>\n",
              "    </tr>\n",
              "    <tr>\n",
              "      <th>75%</th>\n",
              "      <td>0.000000</td>\n",
              "    </tr>\n",
              "    <tr>\n",
              "      <th>max</th>\n",
              "      <td>1.000000</td>\n",
              "    </tr>\n",
              "  </tbody>\n",
              "</table>\n",
              "</div>"
            ],
            "text/plain": [
              "              spam\n",
              "count  5728.000000\n",
              "mean      0.238827\n",
              "std       0.426404\n",
              "min       0.000000\n",
              "25%       0.000000\n",
              "50%       0.000000\n",
              "75%       0.000000\n",
              "max       1.000000"
            ]
          },
          "execution_count": 37,
          "metadata": {},
          "output_type": "execute_result"
        }
      ],
      "source": [
        "# Describe the data\n",
        "df.describe()"
      ]
    },
    {
      "cell_type": "markdown",
      "id": "ad8b7f4b",
      "metadata": {
        "id": "ad8b7f4b"
      },
      "source": [
        "# Step 2: Data Cleaning"
      ]
    },
    {
      "cell_type": "code",
      "execution_count": null,
      "id": "259a1304",
      "metadata": {
        "scrolled": true,
        "id": "259a1304",
        "outputId": "b2fcf621-2552-4691-b6c7-4faeedefede9"
      },
      "outputs": [
        {
          "data": {
            "text/html": [
              "<div>\n",
              "<style scoped>\n",
              "    .dataframe tbody tr th:only-of-type {\n",
              "        vertical-align: middle;\n",
              "    }\n",
              "\n",
              "    .dataframe tbody tr th {\n",
              "        vertical-align: top;\n",
              "    }\n",
              "\n",
              "    .dataframe thead th {\n",
              "        text-align: right;\n",
              "    }\n",
              "</style>\n",
              "<table border=\"1\" class=\"dataframe\">\n",
              "  <thead>\n",
              "    <tr style=\"text-align: right;\">\n",
              "      <th></th>\n",
              "      <th>text</th>\n",
              "      <th>spam</th>\n",
              "    </tr>\n",
              "  </thead>\n",
              "  <tbody>\n",
              "    <tr>\n",
              "      <th>0</th>\n",
              "      <td>Subject: naturally irresistible your corporate...</td>\n",
              "      <td>1</td>\n",
              "    </tr>\n",
              "    <tr>\n",
              "      <th>1</th>\n",
              "      <td>Subject: the stock trading gunslinger  fanny i...</td>\n",
              "      <td>1</td>\n",
              "    </tr>\n",
              "    <tr>\n",
              "      <th>2</th>\n",
              "      <td>Subject: unbelievable new homes made easy  im ...</td>\n",
              "      <td>1</td>\n",
              "    </tr>\n",
              "    <tr>\n",
              "      <th>3</th>\n",
              "      <td>Subject: 4 color printing special  request add...</td>\n",
              "      <td>1</td>\n",
              "    </tr>\n",
              "    <tr>\n",
              "      <th>4</th>\n",
              "      <td>Subject: do not have money , get software cds ...</td>\n",
              "      <td>1</td>\n",
              "    </tr>\n",
              "    <tr>\n",
              "      <th>...</th>\n",
              "      <td>...</td>\n",
              "      <td>...</td>\n",
              "    </tr>\n",
              "    <tr>\n",
              "      <th>5723</th>\n",
              "      <td>Subject: re : research and development charges...</td>\n",
              "      <td>0</td>\n",
              "    </tr>\n",
              "    <tr>\n",
              "      <th>5724</th>\n",
              "      <td>Subject: re : receipts from visit  jim ,  than...</td>\n",
              "      <td>0</td>\n",
              "    </tr>\n",
              "    <tr>\n",
              "      <th>5725</th>\n",
              "      <td>Subject: re : enron case study update  wow ! a...</td>\n",
              "      <td>0</td>\n",
              "    </tr>\n",
              "    <tr>\n",
              "      <th>5726</th>\n",
              "      <td>Subject: re : interest  david ,  please , call...</td>\n",
              "      <td>0</td>\n",
              "    </tr>\n",
              "    <tr>\n",
              "      <th>5727</th>\n",
              "      <td>Subject: news : aurora 5 . 2 update  aurora ve...</td>\n",
              "      <td>0</td>\n",
              "    </tr>\n",
              "  </tbody>\n",
              "</table>\n",
              "<p>5695 rows × 2 columns</p>\n",
              "</div>"
            ],
            "text/plain": [
              "                                                   text  spam\n",
              "0     Subject: naturally irresistible your corporate...     1\n",
              "1     Subject: the stock trading gunslinger  fanny i...     1\n",
              "2     Subject: unbelievable new homes made easy  im ...     1\n",
              "3     Subject: 4 color printing special  request add...     1\n",
              "4     Subject: do not have money , get software cds ...     1\n",
              "...                                                 ...   ...\n",
              "5723  Subject: re : research and development charges...     0\n",
              "5724  Subject: re : receipts from visit  jim ,  than...     0\n",
              "5725  Subject: re : enron case study update  wow ! a...     0\n",
              "5726  Subject: re : interest  david ,  please , call...     0\n",
              "5727  Subject: news : aurora 5 . 2 update  aurora ve...     0\n",
              "\n",
              "[5695 rows x 2 columns]"
            ]
          },
          "execution_count": 38,
          "metadata": {},
          "output_type": "execute_result"
        }
      ],
      "source": [
        "# Remove duplicate emails (if any)\n",
        "df = df.drop_duplicates()\n",
        "df"
      ]
    },
    {
      "cell_type": "code",
      "execution_count": null,
      "id": "2236558d",
      "metadata": {
        "id": "2236558d",
        "outputId": "36fd3936-d9e0-4583-b0e2-48d373755bd5"
      },
      "outputs": [
        {
          "data": {
            "text/html": [
              "<div>\n",
              "<style scoped>\n",
              "    .dataframe tbody tr th:only-of-type {\n",
              "        vertical-align: middle;\n",
              "    }\n",
              "\n",
              "    .dataframe tbody tr th {\n",
              "        vertical-align: top;\n",
              "    }\n",
              "\n",
              "    .dataframe thead th {\n",
              "        text-align: right;\n",
              "    }\n",
              "</style>\n",
              "<table border=\"1\" class=\"dataframe\">\n",
              "  <thead>\n",
              "    <tr style=\"text-align: right;\">\n",
              "      <th></th>\n",
              "      <th>text</th>\n",
              "      <th>spam</th>\n",
              "    </tr>\n",
              "  </thead>\n",
              "  <tbody>\n",
              "    <tr>\n",
              "      <th>0</th>\n",
              "      <td>Subject: naturally irresistible your corporate...</td>\n",
              "      <td>1</td>\n",
              "    </tr>\n",
              "    <tr>\n",
              "      <th>1</th>\n",
              "      <td>Subject: the stock trading gunslinger  fanny i...</td>\n",
              "      <td>1</td>\n",
              "    </tr>\n",
              "    <tr>\n",
              "      <th>2</th>\n",
              "      <td>Subject: unbelievable new homes made easy  im ...</td>\n",
              "      <td>1</td>\n",
              "    </tr>\n",
              "    <tr>\n",
              "      <th>3</th>\n",
              "      <td>Subject: 4 color printing special  request add...</td>\n",
              "      <td>1</td>\n",
              "    </tr>\n",
              "    <tr>\n",
              "      <th>4</th>\n",
              "      <td>Subject: do not have money , get software cds ...</td>\n",
              "      <td>1</td>\n",
              "    </tr>\n",
              "    <tr>\n",
              "      <th>...</th>\n",
              "      <td>...</td>\n",
              "      <td>...</td>\n",
              "    </tr>\n",
              "    <tr>\n",
              "      <th>5723</th>\n",
              "      <td>Subject: re : research and development charges...</td>\n",
              "      <td>0</td>\n",
              "    </tr>\n",
              "    <tr>\n",
              "      <th>5724</th>\n",
              "      <td>Subject: re : receipts from visit  jim ,  than...</td>\n",
              "      <td>0</td>\n",
              "    </tr>\n",
              "    <tr>\n",
              "      <th>5725</th>\n",
              "      <td>Subject: re : enron case study update  wow ! a...</td>\n",
              "      <td>0</td>\n",
              "    </tr>\n",
              "    <tr>\n",
              "      <th>5726</th>\n",
              "      <td>Subject: re : interest  david ,  please , call...</td>\n",
              "      <td>0</td>\n",
              "    </tr>\n",
              "    <tr>\n",
              "      <th>5727</th>\n",
              "      <td>Subject: news : aurora 5 . 2 update  aurora ve...</td>\n",
              "      <td>0</td>\n",
              "    </tr>\n",
              "  </tbody>\n",
              "</table>\n",
              "<p>5695 rows × 2 columns</p>\n",
              "</div>"
            ],
            "text/plain": [
              "                                                   text  spam\n",
              "0     Subject: naturally irresistible your corporate...     1\n",
              "1     Subject: the stock trading gunslinger  fanny i...     1\n",
              "2     Subject: unbelievable new homes made easy  im ...     1\n",
              "3     Subject: 4 color printing special  request add...     1\n",
              "4     Subject: do not have money , get software cds ...     1\n",
              "...                                                 ...   ...\n",
              "5723  Subject: re : research and development charges...     0\n",
              "5724  Subject: re : receipts from visit  jim ,  than...     0\n",
              "5725  Subject: re : enron case study update  wow ! a...     0\n",
              "5726  Subject: re : interest  david ,  please , call...     0\n",
              "5727  Subject: news : aurora 5 . 2 update  aurora ve...     0\n",
              "\n",
              "[5695 rows x 2 columns]"
            ]
          },
          "execution_count": 39,
          "metadata": {},
          "output_type": "execute_result"
        }
      ],
      "source": [
        "# Handle missing values (if any)\n",
        "df = df.dropna()\n",
        "df"
      ]
    },
    {
      "cell_type": "code",
      "execution_count": null,
      "id": "c77898f9",
      "metadata": {
        "id": "c77898f9"
      },
      "outputs": [],
      "source": [
        "#Write a function to Clean the text data by removing special characters, HTML tags, and other irrelevant information.\n",
        "\n",
        "import re\n",
        "from bs4 import BeautifulSoup\n",
        "\n",
        "def clean_text(text):\n",
        "    # Remove HTML tags using BeautifulSoup\n",
        "    text = BeautifulSoup(text, \"html.parser\").get_text()\n",
        "\n",
        "    # Remove special characters and symbols\n",
        "    text = re.sub(r'[^a-zA-Z0-9\\s]', '', text)\n",
        "\n",
        "    # Remove extra whitespaces\n",
        "    text = ' '.join(text.split())\n",
        "\n",
        "    return text\n"
      ]
    },
    {
      "cell_type": "code",
      "execution_count": null,
      "id": "3c3da513",
      "metadata": {
        "id": "3c3da513",
        "outputId": "07d54f3c-ebc2-4c69-a21a-40589d53346e"
      },
      "outputs": [
        {
          "name": "stderr",
          "output_type": "stream",
          "text": [
            "C:\\Users\\dell\\AppData\\Local\\Temp\\ipykernel_11212\\3992749169.py:8: MarkupResemblesLocatorWarning: The input looks more like a filename than markup. You may want to open this file and pass the filehandle into Beautiful Soup.\n",
            "  text = BeautifulSoup(text, \"html.parser\").get_text()\n"
          ]
        }
      ],
      "source": [
        "# Apply the cleaning function\n",
        "df['cleaned_text'] = df['text'].apply(clean_text)"
      ]
    },
    {
      "cell_type": "code",
      "execution_count": null,
      "id": "51d0b5e6",
      "metadata": {
        "id": "51d0b5e6",
        "outputId": "f292abbf-6bfe-4694-a4d0-cd57cfde3efb"
      },
      "outputs": [
        {
          "name": "stdout",
          "output_type": "stream",
          "text": [
            "                                                text  \\\n",
            "0  Subject: naturally irresistible your corporate...   \n",
            "1  Subject: the stock trading gunslinger  fanny i...   \n",
            "2  Subject: unbelievable new homes made easy  im ...   \n",
            "3  Subject: 4 color printing special  request add...   \n",
            "4  Subject: do not have money , get software cds ...   \n",
            "\n",
            "                                        cleaned_text  \n",
            "0  Subject naturally irresistible your corporate ...  \n",
            "1  Subject the stock trading gunslinger fanny is ...  \n",
            "2  Subject unbelievable new homes made easy im wa...  \n",
            "3  Subject 4 color printing special request addit...  \n",
            "4  Subject do not have money get software cds fro...  \n"
          ]
        }
      ],
      "source": [
        "print(df[['text', 'cleaned_text']].head())"
      ]
    },
    {
      "cell_type": "markdown",
      "id": "096cb5e7",
      "metadata": {
        "id": "096cb5e7"
      },
      "source": [
        "# Step 3: Emoji Removal"
      ]
    },
    {
      "cell_type": "code",
      "execution_count": null,
      "id": "5b12a9de",
      "metadata": {
        "id": "5b12a9de"
      },
      "outputs": [],
      "source": [
        "import re\n",
        "\n",
        "def remove_emojis(text):\n",
        "    # Define a regular expression pattern for emojis\n",
        "    emoji_pattern = re.compile(\"[\"\n",
        "        u\"\\U0001F600-\\U0001F64F\"  # Emojis in the first Unicode plane\n",
        "        u\"\\U0001F300-\\U0001F5FF\"  # Emojis in the second Unicode plane\n",
        "        u\"\\U0001F680-\\U0001F6FF\"  # Emojis in the third Unicode plane\n",
        "        u\"\\U0001F700-\\U0001F77F\"  # Emojis in the fourth Unicode plane\n",
        "        \"]+\", flags=re.UNICODE)\n",
        "\n",
        "    # Use the sub method to remove emojis from the text\n",
        "    text_no_emojis = emoji_pattern.sub(r'', text)\n",
        "\n",
        "    return text_no_emojis"
      ]
    },
    {
      "cell_type": "code",
      "execution_count": null,
      "id": "19043f08",
      "metadata": {
        "id": "19043f08",
        "outputId": "fa17d3ce-32d7-49c2-e97f-15e4976bff0f"
      },
      "outputs": [
        {
          "name": "stdout",
          "output_type": "stream",
          "text": [
            "0     Subject: naturally irresistible your corporate...\n",
            "1     Subject: the stock trading gunslinger  fanny i...\n",
            "2     Subject: unbelievable new homes made easy  im ...\n",
            "3     Subject: 4 color printing special  request add...\n",
            "4     Subject: do not have money , get software cds ...\n",
            "5     Subject: great nnews  hello , welcome to medzo...\n",
            "6     Subject: here ' s a hot play in motion  homela...\n",
            "7     Subject: save your money buy getting this thin...\n",
            "8     Subject: undeliverable : home based business f...\n",
            "9     Subject: save your money buy getting this thin...\n",
            "10    Subject: las vegas high rise boom  las vegas i...\n",
            "11    Subject: save your money buy getting this thin...\n",
            "12    Subject: brighten those teeth  get your  teeth...\n",
            "13    Subject: wall street phenomenon reaps rewards ...\n",
            "14    Subject: fpa notice : ebay misrepresentation o...\n",
            "15    Subject: search engine position  be the very f...\n",
            "16    Subject: only our software is guaranteed 100 %...\n",
            "17    Subject: localized software , all languages av...\n",
            "18    Subject: security alert - confirm your nationa...\n",
            "19    Subject: 21 st century web specialists jrgbm  ...\n",
            "Name: cleaned_text, dtype: object\n"
          ]
        }
      ],
      "source": [
        "# Apply the function to the email body\n",
        "df['cleaned_text'] = df['text'].apply(remove_emojis)\n",
        "print(df['cleaned_text'].head(20))"
      ]
    },
    {
      "cell_type": "markdown",
      "id": "6825a6ef",
      "metadata": {
        "id": "6825a6ef"
      },
      "source": [
        "# Step 4: Stemming and Lemmatization"
      ]
    },
    {
      "cell_type": "code",
      "execution_count": null,
      "id": "2abcd076",
      "metadata": {
        "id": "2abcd076"
      },
      "outputs": [],
      "source": [
        "import nltk\n",
        "from nltk.stem import PorterStemmer\n",
        "\n",
        "# Initialize the stemmer\n",
        "stemmer = PorterStemmer()\n",
        "\n",
        "# Define a function to apply stemming\n",
        "def apply_stemming(text):\n",
        "    words = text.split()\n",
        "    stemmed_words = [stemmer.stem(word) for word in words]\n",
        "    return ' '.join(stemmed_words)\n",
        "\n",
        "# Apply stemming to the cleaned text\n",
        "df['stemmed_email'] = df['cleaned_text'].apply(apply_stemming)"
      ]
    },
    {
      "cell_type": "code",
      "execution_count": null,
      "id": "3c591f19",
      "metadata": {
        "id": "3c591f19",
        "outputId": "d26b071a-fb4b-4fd0-ca0c-6a8e80510544"
      },
      "outputs": [
        {
          "name": "stdout",
          "output_type": "stream",
          "text": [
            "0     subject: natur irresist your corpor ident lt i...\n",
            "1     subject: the stock trade gunsling fanni is mer...\n",
            "2     subject: unbeliev new home made easi im want t...\n",
            "3     subject: 4 color print special request addit i...\n",
            "4     subject: do not have money , get softwar cd fr...\n",
            "5     subject: great nnew hello , welcom to medzonli...\n",
            "6     subject: here ' s a hot play in motion homelan...\n",
            "7     subject: save your money buy get thi thing her...\n",
            "8     subject: undeliver : home base busi for grownu...\n",
            "9     subject: save your money buy get thi thing her...\n",
            "10    subject: la vega high rise boom la vega is fas...\n",
            "11    subject: save your money buy get thi thing her...\n",
            "12    subject: brighten those teeth get your teeth b...\n",
            "13    subject: wall street phenomenon reap reward sm...\n",
            "14    subject: fpa notic : ebay misrepresent of iden...\n",
            "15    subject: search engin posit be the veri first ...\n",
            "16    subject: onli our softwar is guarante 100 % le...\n",
            "17    subject: local softwar , all languag avail . h...\n",
            "18    subject: secur alert - confirm your nation cre...\n",
            "19    subject: 21 st centuri web specialist jrgbm de...\n",
            "Name: stemmed_email, dtype: object\n"
          ]
        }
      ],
      "source": [
        "print(df['stemmed_email'].head(20))"
      ]
    },
    {
      "cell_type": "markdown",
      "id": "b7f7c3b1",
      "metadata": {
        "id": "b7f7c3b1"
      },
      "source": [
        "# Step 5: Stop Word Removal"
      ]
    },
    {
      "cell_type": "code",
      "execution_count": null,
      "id": "1cca28d1",
      "metadata": {
        "id": "1cca28d1",
        "outputId": "1b30936b-b64a-4263-eb1b-37b05a4cd175"
      },
      "outputs": [
        {
          "name": "stderr",
          "output_type": "stream",
          "text": [
            "[nltk_data] Downloading package stopwords to\n",
            "[nltk_data]     C:\\Users\\dell\\AppData\\Roaming\\nltk_data...\n",
            "[nltk_data]   Package stopwords is already up-to-date!\n"
          ]
        },
        {
          "name": "stdout",
          "output_type": "stream",
          "text": [
            "0     Subject: naturally irresistible corporate iden...\n",
            "1     Subject: stock trading gunslinger fanny merril...\n",
            "2     Subject: unbelievable new homes made easy im w...\n",
            "3     Subject: 4 color printing special request addi...\n",
            "4     Subject: money , get software cds ! software c...\n",
            "5     Subject: great nnews hello , welcome medzonlin...\n",
            "6     Subject: ' hot play motion homeland security i...\n",
            "7     Subject: save money buy getting thing tried ci...\n",
            "8     Subject: undeliverable : home based business g...\n",
            "9     Subject: save money buy getting thing tried ci...\n",
            "10    Subject: las vegas high rise boom las vegas fa...\n",
            "11    Subject: save money buy getting thing tried ci...\n",
            "12    Subject: brighten teeth get teeth bright white...\n",
            "13    Subject: wall street phenomenon reaps rewards ...\n",
            "14    Subject: fpa notice : ebay misrepresentation i...\n",
            "15    Subject: search engine position first listing ...\n",
            "16    Subject: software guaranteed 100 % legal . nam...\n",
            "17    Subject: localized software , languages availa...\n",
            "18    Subject: security alert - confirm national cre...\n",
            "19    Subject: 21 st century web specialists jrgbm d...\n",
            "Name: no_stop_words_email, dtype: object\n"
          ]
        }
      ],
      "source": [
        "import nltk\n",
        "from nltk.corpus import stopwords\n",
        "\n",
        "nltk.download('stopwords')\n",
        "stop_words = set(stopwords.words('english'))\n",
        "\n",
        "# Define a function to remove stop words\n",
        "def remove_stop_words(text):\n",
        "    words = text.split()\n",
        "    filtered_words = [word for word in words if word.lower() not in stop_words]\n",
        "    return ' '.join(filtered_words)\n",
        "\n",
        "# Apply stop word removal to the cleaned text\n",
        "df['no_stop_words_email'] = df['cleaned_text'].apply(remove_stop_words)\n",
        "print(df['no_stop_words_email'].head(20))"
      ]
    },
    {
      "cell_type": "markdown",
      "id": "27407f25",
      "metadata": {
        "id": "27407f25"
      },
      "source": [
        "# Step 6: Tokenization"
      ]
    },
    {
      "cell_type": "code",
      "execution_count": null,
      "id": "2f48529a",
      "metadata": {
        "id": "2f48529a",
        "outputId": "51bc1011-5941-4185-ec69-01cc89e6ba64"
      },
      "outputs": [
        {
          "name": "stdout",
          "output_type": "stream",
          "text": [
            "0       [Subject:, naturally, irresistible, your, corp...\n",
            "1       [Subject:, the, stock, trading, gunslinger, fa...\n",
            "2       [Subject:, unbelievable, new, homes, made, eas...\n",
            "3       [Subject:, 4, color, printing, special, reques...\n",
            "4       [Subject:, do, not, have, money, ,, get, softw...\n",
            "                              ...                        \n",
            "5723    [Subject:, re, :, research, and, development, ...\n",
            "5724    [Subject:, re, :, receipts, from, visit, jim, ...\n",
            "5725    [Subject:, re, :, enron, case, study, update, ...\n",
            "5726    [Subject:, re, :, interest, david, ,, please, ...\n",
            "5727    [Subject:, news, :, aurora, 5, ., 2, update, a...\n",
            "Name: tokenized_email, Length: 5695, dtype: object\n"
          ]
        }
      ],
      "source": [
        "# Define a function to tokenize text into words\n",
        "def tokenize_text(text):\n",
        "    words = text.split()\n",
        "    return words\n",
        "\n",
        "# Apply tokenization to the cleaned text\n",
        "df['tokenized_email'] = df['cleaned_text'].apply(tokenize_text)\n",
        "print(df['tokenized_email'])\n"
      ]
    },
    {
      "cell_type": "markdown",
      "id": "b82fd6f9",
      "metadata": {
        "id": "b82fd6f9"
      },
      "source": [
        "# Step 7: Feature Extraction using TF-IDF"
      ]
    },
    {
      "cell_type": "code",
      "execution_count": null,
      "id": "2633d081",
      "metadata": {
        "id": "2633d081",
        "outputId": "065abda0-6838-4ce6-b8a8-18581106d14a"
      },
      "outputs": [
        {
          "name": "stdout",
          "output_type": "stream",
          "text": [
            "  (0, 18540)\t0.05061905307329464\n",
            "  (0, 26414)\t0.0732828530764711\n",
            "  (0, 24800)\t0.03169462982738551\n",
            "  (0, 5567)\t0.02717198414590654\n",
            "  (0, 21007)\t0.04486113847092893\n",
            "  (0, 16757)\t0.024010680912168382\n",
            "  (0, 9073)\t0.08787828034734055\n",
            "  (0, 33557)\t0.024368324506786252\n",
            "  (0, 28911)\t0.07079175806813673\n",
            "  (0, 21096)\t0.07781443410647693\n",
            "  (0, 32650)\t0.10268410801494346\n",
            "  (0, 15009)\t0.020096415785977668\n",
            "  (0, 14514)\t0.08615403143497394\n",
            "  (0, 14182)\t0.08051620392146595\n",
            "  (0, 23796)\t0.043312214446288994\n",
            "  (0, 36487)\t0.0245598455741449\n",
            "  (0, 8335)\t0.06222935561846597\n",
            "  (0, 4756)\t0.06935169919390856\n",
            "  (0, 34849)\t0.08662786112530435\n",
            "  (0, 27257)\t0.053061604746478926\n",
            "  (0, 16380)\t0.07851997763285898\n",
            "  (0, 29892)\t0.08592231759892231\n",
            "  (0, 343)\t0.0651128477204767\n",
            "  (0, 7397)\t0.08206173793612623\n",
            "  (0, 15569)\t0.0976295734937339\n",
            "  :\t:\n",
            "  (5694, 36487)\t0.011457264629925912\n",
            "  (5694, 33616)\t0.023590812505506417\n",
            "  (5694, 37011)\t0.009265609638958809\n",
            "  (5694, 18942)\t0.02522861000446417\n",
            "  (5694, 8332)\t0.028934388100571005\n",
            "  (5694, 35085)\t0.044991682529053105\n",
            "  (5694, 17967)\t0.029860386306019438\n",
            "  (5694, 12151)\t0.029054397284032103\n",
            "  (5694, 21305)\t0.026264907458079478\n",
            "  (5694, 22861)\t0.01848745047584492\n",
            "  (5694, 18913)\t0.012804101829846972\n",
            "  (5694, 33441)\t0.03658893808969434\n",
            "  (5694, 36019)\t0.06028057748853032\n",
            "  (5694, 12610)\t0.038538949651685965\n",
            "  (5694, 21440)\t0.020428359616216994\n",
            "  (5694, 36080)\t0.028361892516446774\n",
            "  (5694, 7546)\t0.01858095643236871\n",
            "  (5694, 18234)\t0.09364732656078027\n",
            "  (5694, 4836)\t0.10920391067087601\n",
            "  (5694, 24274)\t0.07629001931037817\n",
            "  (5694, 21665)\t0.07220604547128312\n",
            "  (5694, 33450)\t0.1657677830094974\n",
            "  (5694, 33798)\t0.09717025265571871\n",
            "  (5694, 18848)\t0.0407227098145239\n",
            "  (5694, 32371)\t0.007404404529753485\n"
          ]
        }
      ],
      "source": [
        "from sklearn.feature_extraction.text import TfidfVectorizer\n",
        "\n",
        "# Initialize the TF-IDF vectorizer\n",
        "tfidf_vectorizer = TfidfVectorizer()\n",
        "\n",
        "# Fit and transform the email text to TF-IDF vectors\n",
        "tfidf_vectors = tfidf_vectorizer.fit_transform(df['cleaned_text'])\n",
        "print(tfidf_vectors)"
      ]
    },
    {
      "cell_type": "markdown",
      "id": "1b29da0d",
      "metadata": {
        "id": "1b29da0d"
      },
      "source": [
        "# Step 8: Feature Extraction using Bag of Words (BoW)"
      ]
    },
    {
      "cell_type": "code",
      "execution_count": null,
      "id": "dd2f2a91",
      "metadata": {
        "id": "dd2f2a91",
        "outputId": "b89e7d81-1b4d-405b-e7fa-80a778448616"
      },
      "outputs": [
        {
          "name": "stdout",
          "output_type": "stream",
          "text": [
            "  (0, 32371)\t1\n",
            "  (0, 23381)\t1\n",
            "  (0, 18838)\t1\n",
            "  (0, 37024)\t7\n",
            "  (0, 10045)\t1\n",
            "  (0, 17688)\t1\n",
            "  (0, 21148)\t1\n",
            "  (0, 18848)\t3\n",
            "  (0, 28018)\t1\n",
            "  (0, 16655)\t1\n",
            "  (0, 33798)\t4\n",
            "  (0, 28142)\t1\n",
            "  (0, 9281)\t3\n",
            "  (0, 33450)\t5\n",
            "  (0, 21665)\t2\n",
            "  (0, 15415)\t1\n",
            "  (0, 24274)\t4\n",
            "  (0, 32635)\t1\n",
            "  (0, 4836)\t5\n",
            "  (0, 18234)\t1\n",
            "  (0, 18885)\t1\n",
            "  (0, 7546)\t2\n",
            "  (0, 16072)\t2\n",
            "  (0, 8043)\t1\n",
            "  (0, 20960)\t3\n",
            "  :\t:\n",
            "  (5694, 24851)\t2\n",
            "  (5694, 21635)\t1\n",
            "  (5694, 5715)\t9\n",
            "  (5694, 30968)\t1\n",
            "  (5694, 2807)\t3\n",
            "  (5694, 13324)\t1\n",
            "  (5694, 13113)\t1\n",
            "  (5694, 17380)\t1\n",
            "  (5694, 14115)\t1\n",
            "  (5694, 20276)\t1\n",
            "  (5694, 31860)\t1\n",
            "  (5694, 13114)\t1\n",
            "  (5694, 20470)\t1\n",
            "  (5694, 35337)\t1\n",
            "  (5694, 8614)\t1\n",
            "  (5694, 30116)\t1\n",
            "  (5694, 13507)\t5\n",
            "  (5694, 36243)\t1\n",
            "  (5694, 943)\t2\n",
            "  (5694, 2776)\t1\n",
            "  (5694, 30316)\t1\n",
            "  (5694, 17582)\t1\n",
            "  (5694, 33970)\t1\n",
            "  (5694, 10354)\t1\n",
            "  (5694, 11368)\t1\n"
          ]
        }
      ],
      "source": [
        "from sklearn.feature_extraction.text import CountVectorizer\n",
        "\n",
        "# Initialize the CountVectorizer\n",
        "count_vectorizer = CountVectorizer()\n",
        "\n",
        "# Fit and transform the email text to BoW representations\n",
        "bow_vectors = count_vectorizer.fit_transform(df['cleaned_text'])\n",
        "print(bow_vectors)"
      ]
    }
  ],
  "metadata": {
    "kernelspec": {
      "display_name": "Python 3 (ipykernel)",
      "language": "python",
      "name": "python3"
    },
    "language_info": {
      "codemirror_mode": {
        "name": "ipython",
        "version": 3
      },
      "file_extension": ".py",
      "mimetype": "text/x-python",
      "name": "python",
      "nbconvert_exporter": "python",
      "pygments_lexer": "ipython3",
      "version": "3.11.4"
    },
    "colab": {
      "provenance": []
    }
  },
  "nbformat": 4,
  "nbformat_minor": 5
}